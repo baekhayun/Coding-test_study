{
 "cells": [
  {
   "cell_type": "markdown",
   "metadata": {},
   "source": [
    "# 1장.코딩 인터뷰"
   ]
  },
  {
   "cell_type": "markdown",
   "metadata": {},
   "source": [
    "## 온라인 테스트 플랫폼\n",
    "- 해커랭크 : 가장 유명, 테스트 케이스 비공개, 카카오 경력채용, 네이버웹툰.\n",
    "- 코딜리티 : 영국에서 서비스, 네이버 채용.\n",
    "- 리모트인터뷰 : 단 하나의 입력값만 통과해도 문제 풀이 성공으로 간주, 내부적으로 채점해서 점수나 코드가 맞는지 알 수 없음, 기준 점수 이하는 시스템 상에서 바로 탈락, 과거 라인 채용에 사용됨.\n",
    "- 프로그래머스 : 국내 서비스, 대기업 공채처럼 대규모 진행 이벤트.카카오 신입 채용과 최근 라인.\n",
    "\n",
    "***코딩 테스트 전, 반드시 해당 플랫폼의 활용 방법을 충분히 숙지해야 함.**"
   ]
  },
  {
   "cell_type": "markdown",
   "metadata": {},
   "source": [
    "***삼성전자는 자체 플랫폼 사용, 파이썬 지원x.**"
   ]
  },
  {
   "cell_type": "markdown",
   "metadata": {},
   "source": [
    "## 사전 준비사항\n",
    "- 연습장과 필기 도구 : 재귀 구조를 구현할 때 연습장에 적어두면서 값의 변화를 추적해보기 좋음.\n",
    "- 자신만의 코드 스니펫 : 자주 쓰이는 동작들에 대해서 코드 스니펫을 직접 미리 만들어 두기.\n",
    "- 모든 테스트 케이스 통과를 목표로\n",
    "- 문제 제출 횟수도 평가 기준이 될 수 있음 : 테스트 시 충분히 생각하고 제출하는 것이 유리. 실무랑 다름.\n",
    "- 타임아웃 발생 : 파이썬은 실행 속도가 비교적 느림, 알고리즘 최적화에 더 많은 고민 필요.\n",
    "- 예외 처리 잊지 말기 : 처음부터 상단에 예외 처리부터 해놓고 진행하는 것도 괜찮은 방법.\n",
    "- 잘못 접근한 풀이 : 문제당 제한 시간을 정해두기. 시간 초과하면 일단 다음 문제로.\n",
    "- 풀이 시간 초과한 경우 : 시간이 있으면 풀 수 있고 면접관 이메일을 안다면 메일로 제출해보기.\n",
    "- REPL(Read Evaluate Print Loop)(사용자 입력에 대한 실행 결과를 바로 되돌려 주는 상호작용 환경)으로 코드를 검증 : 알고리즘 바로 검증할 수 있어 버그 감소에 도움됨."
   ]
  },
  {
   "cell_type": "markdown",
   "metadata": {},
   "source": [
    "***파이참 추천**"
   ]
  }
 ],
 "metadata": {
  "kernelspec": {
   "display_name": "Python 3",
   "language": "python",
   "name": "python3"
  },
  "language_info": {
   "codemirror_mode": {
    "name": "ipython",
    "version": 3
   },
   "file_extension": ".py",
   "mimetype": "text/x-python",
   "name": "python",
   "nbconvert_exporter": "python",
   "pygments_lexer": "ipython3",
   "version": "3.7.6"
  }
 },
 "nbformat": 4,
 "nbformat_minor": 4
}
