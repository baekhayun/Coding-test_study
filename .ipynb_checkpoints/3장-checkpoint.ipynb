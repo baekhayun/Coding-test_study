{
 "cells": [
  {
   "cell_type": "markdown",
   "metadata": {},
   "source": [
    "# 3장.파이썬"
   ]
  },
  {
   "cell_type": "markdown",
   "metadata": {},
   "source": [
    "### -인덴트\n",
    ":공백 4칸 들여쓰기"
   ]
  },
  {
   "cell_type": "code",
   "execution_count": 7,
   "metadata": {},
   "outputs": [],
   "source": [
    "#첫 번째 줄에 파라미터가 있다면, 파라미터 시작되는 부분에 맞춤.\n",
    "#foo = long_function_name(var_one, var_two,\n",
    "#                         var_three, var_four)"
   ]
  },
  {
   "cell_type": "code",
   "execution_count": 8,
   "metadata": {},
   "outputs": [],
   "source": [
    "#첫 번째 줄에 파라미터가 없다면, 공백 4칸 인덴트를 한 번 더 추가하여 다른 행과 구분.\n",
    "#def long_function_name(\n",
    "#        var_one, var_two, var_three,\n",
    "#        var_four):\n",
    "#    print(var_one)"
   ]
  },
  {
   "cell_type": "code",
   "execution_count": 9,
   "metadata": {},
   "outputs": [],
   "source": [
    "#코드를 여러 줄로 나눠쓸 경우 다음 행과 구분되도록 인덴트를 추가\n",
    "#foo = long_function_name(\n",
    "#    var_one, var_two,\n",
    "#    var_three, var_four)"
   ]
  },
  {
   "cell_type": "markdown",
   "metadata": {},
   "source": [
    "### -네이밍 컨벤션 (스네이크 케이스)\n",
    ":각 단어를 밑줄(_)로 구분, 모두 소문자로 표기"
   ]
  },
  {
   "cell_type": "code",
   "execution_count": 10,
   "metadata": {},
   "outputs": [],
   "source": [
    "#카멜 케이스\n",
    "camelCase: int = 1\n",
    "    \n",
    "#스네이크 케이스\n",
    "snake_case: int =1"
   ]
  },
  {
   "cell_type": "markdown",
   "metadata": {},
   "source": [
    "### -타입 힌트\n",
    ":파라미터 a에 숫자,문자를 넘겨야 하는지 or 함수의 리턴 값이 무엇인지 알 수 있음."
   ]
  },
  {
   "cell_type": "markdown",
   "metadata": {},
   "source": [
    ":사용하면 가독성은 좋아지고 버그 발생 확률은 줄어듦."
   ]
  },
  {
   "cell_type": "code",
   "execution_count": 15,
   "metadata": {},
   "outputs": [],
   "source": [
    "a: str = \"1\"\n",
    "b: int = 1\n",
    "#def fn(a: int) -> bool:"
   ]
  },
  {
   "cell_type": "markdown",
   "metadata": {},
   "source": [
    ":문자열에 정수를 할당하는 등의 사용 방식은 절대 지양"
   ]
  },
  {
   "cell_type": "code",
   "execution_count": 17,
   "metadata": {},
   "outputs": [
    {
     "data": {
      "text/plain": [
       "int"
      ]
     },
     "execution_count": 17,
     "metadata": {},
     "output_type": "execute_result"
    }
   ],
   "source": [
    "a: str = 1\n",
    "type(a)"
   ]
  },
  {
   "cell_type": "markdown",
   "metadata": {},
   "source": [
    ":타입 힌트가 잘못 지정된 코드는 \"Incompatible return value type\" 오류가 발생함."
   ]
  },
  {
   "cell_type": "markdown",
   "metadata": {},
   "source": [
    "### -리스트 컴프리헨션\n",
    ":기존 리스트를 기반으로 새로운 리스트를 만들어내는 구문"
   ]
  },
  {
   "cell_type": "code",
   "execution_count": 19,
   "metadata": {},
   "outputs": [
    {
     "data": {
      "text/plain": [
       "[2, 6, 10, 14, 18]"
      ]
     },
     "execution_count": 19,
     "metadata": {},
     "output_type": "execute_result"
    }
   ],
   "source": [
    "#홀수인 경우 2를 곱해 출력하라는 리스트 컴프리헨션\n",
    "[n * 2 for n in range(1,10 + 1) if n % 2 ==1]"
   ]
  },
  {
   "cell_type": "code",
   "execution_count": 21,
   "metadata": {},
   "outputs": [
    {
     "data": {
      "text/plain": [
       "[2, 6, 10, 14, 18]"
      ]
     },
     "execution_count": 21,
     "metadata": {},
     "output_type": "execute_result"
    }
   ],
   "source": [
    "#리스트 컴프리헨션을 사용하지 않은 경우\n",
    "a = []\n",
    "for n in range(1,10 + 1):\n",
    "    if n % 2 ==1:\n",
    "        a.append(n * 2)\n",
    "a"
   ]
  },
  {
   "cell_type": "markdown",
   "metadata": {},
   "source": [
    ":리스트 외에도 딕셔너리 등이 가능함."
   ]
  },
  {
   "cell_type": "code",
   "execution_count": 23,
   "metadata": {},
   "outputs": [],
   "source": [
    "#컴프리헨션을 사용하지 않은 경우\n",
    "#a = {}\n",
    "#for key, value in original.items():\n",
    "#    a[key] = value"
   ]
  },
  {
   "cell_type": "code",
   "execution_count": 24,
   "metadata": {},
   "outputs": [],
   "source": [
    "#사용한 경우\n",
    "#a = {key: value for key, value in original.items()}"
   ]
  },
  {
   "cell_type": "markdown",
   "metadata": {},
   "source": [
    "### -제너레이터\n",
    ":루프의 반복 동작을 제어할 수 있는 루틴 형태"
   ]
  },
  {
   "cell_type": "markdown",
   "metadata": {},
   "source": [
    ":yield는 제너레이터가 여기까지 실행 중이던 값을 내보냄."
   ]
  },
  {
   "cell_type": "markdown",
   "metadata": {},
   "source": [
    ":중간값을 리턴한 다음 함수는 종료되지 않고 계속해서 맨 끝에 도달할 때까지 실행됨.\n",
    "(return은 값을 리턴하고 모든 함수의 동작을 종료함.)"
   ]
  },
  {
   "cell_type": "code",
   "execution_count": 26,
   "metadata": {},
   "outputs": [
    {
     "data": {
      "text/plain": [
       "<generator object get_natural_number at 0x000001CCB834F7C8>"
      ]
     },
     "execution_count": 26,
     "metadata": {},
     "output_type": "execute_result"
    }
   ],
   "source": [
    "def get_natural_number():\n",
    "    n = 0\n",
    "    while True:\n",
    "        n += 1\n",
    "        yield n\n",
    "        \n",
    "get_natural_number()"
   ]
  },
  {
   "cell_type": "code",
   "execution_count": 28,
   "metadata": {},
   "outputs": [
    {
     "name": "stdout",
     "output_type": "stream",
     "text": [
      "1\n",
      "2\n",
      "3\n",
      "4\n",
      "5\n"
     ]
    }
   ],
   "source": [
    "# 다음 값을 생성하려면 next()로 추출\n",
    "g = get_natural_number()\n",
    "for _ in range(0,5):\n",
    "    print(next(g))"
   ]
  },
  {
   "cell_type": "markdown",
   "metadata": {},
   "source": [
    ":여러 타입의 값을 하나의 함수에서 생성하는 것도 가능."
   ]
  },
  {
   "cell_type": "code",
   "execution_count": 29,
   "metadata": {},
   "outputs": [
    {
     "data": {
      "text/plain": [
       "<generator object generator at 0x000001CCB834FC48>"
      ]
     },
     "execution_count": 29,
     "metadata": {},
     "output_type": "execute_result"
    }
   ],
   "source": [
    "def generator():\n",
    "    yield 1\n",
    "    yield 'string'\n",
    "    yield True\n",
    "\n",
    "g = generator()\n",
    "g"
   ]
  },
  {
   "cell_type": "code",
   "execution_count": 30,
   "metadata": {},
   "outputs": [
    {
     "data": {
      "text/plain": [
       "1"
      ]
     },
     "execution_count": 30,
     "metadata": {},
     "output_type": "execute_result"
    }
   ],
   "source": [
    "next(g)"
   ]
  },
  {
   "cell_type": "code",
   "execution_count": 31,
   "metadata": {},
   "outputs": [
    {
     "data": {
      "text/plain": [
       "'string'"
      ]
     },
     "execution_count": 31,
     "metadata": {},
     "output_type": "execute_result"
    }
   ],
   "source": [
    "next(g)"
   ]
  },
  {
   "cell_type": "code",
   "execution_count": 32,
   "metadata": {},
   "outputs": [
    {
     "data": {
      "text/plain": [
       "True"
      ]
     },
     "execution_count": 32,
     "metadata": {},
     "output_type": "execute_result"
    }
   ],
   "source": [
    "next(g)"
   ]
  },
  {
   "cell_type": "markdown",
   "metadata": {},
   "source": [
    "### -range\n",
    "- 제너레이터의 next()를 호출하듯 매번 다음 숫자를 생성"
   ]
  },
  {
   "cell_type": "code",
   "execution_count": 1,
   "metadata": {},
   "outputs": [
    {
     "data": {
      "text/plain": [
       "[0, 1, 2, 3, 4]"
      ]
     },
     "execution_count": 1,
     "metadata": {},
     "output_type": "execute_result"
    }
   ],
   "source": [
    "list(range(5))"
   ]
  },
  {
   "cell_type": "code",
   "execution_count": 3,
   "metadata": {},
   "outputs": [
    {
     "data": {
      "text/plain": [
       "range(0, 5)"
      ]
     },
     "execution_count": 3,
     "metadata": {},
     "output_type": "execute_result"
    }
   ],
   "source": [
    "range(5)"
   ]
  },
  {
   "cell_type": "code",
   "execution_count": 4,
   "metadata": {},
   "outputs": [
    {
     "data": {
      "text/plain": [
       "range"
      ]
     },
     "execution_count": 4,
     "metadata": {},
     "output_type": "execute_result"
    }
   ],
   "source": [
    "type(range(5))"
   ]
  },
  {
   "cell_type": "code",
   "execution_count": 5,
   "metadata": {},
   "outputs": [
    {
     "name": "stdout",
     "output_type": "stream",
     "text": [
      "0 1 2 3 4 "
     ]
    }
   ],
   "source": [
    "for i in range(5):\n",
    "    print(i, end=' ')"
   ]
  },
  {
   "cell_type": "markdown",
   "metadata": {},
   "source": [
    "- 생성 조건만 보관하고 있기 때문에 많은 값를 가지고 있어도 range클래스를 이용하면 메모리 점유율이 훨씬 작음."
   ]
  },
  {
   "cell_type": "code",
   "execution_count": 8,
   "metadata": {},
   "outputs": [
    {
     "name": "stdout",
     "output_type": "stream",
     "text": [
      "1000000\n",
      "1000000\n"
     ]
    },
    {
     "data": {
      "text/plain": [
       "True"
      ]
     },
     "execution_count": 8,
     "metadata": {},
     "output_type": "execute_result"
    }
   ],
   "source": [
    "a = [n for n in range(1000000)]\n",
    "b = range(1000000)\n",
    "\n",
    "print(len(a))\n",
    "print(len(b))\n",
    "len(a) == len(b)"
   ]
  },
  {
   "cell_type": "code",
   "execution_count": 9,
   "metadata": {},
   "outputs": [
    {
     "data": {
      "text/plain": [
       "range(0, 1000000)"
      ]
     },
     "execution_count": 9,
     "metadata": {},
     "output_type": "execute_result"
    }
   ],
   "source": [
    "# a에는 이미 생성된 값이, b는 생성해야한다는 조건만 존재\n",
    "b"
   ]
  },
  {
   "cell_type": "code",
   "execution_count": 10,
   "metadata": {},
   "outputs": [
    {
     "data": {
      "text/plain": [
       "False"
      ]
     },
     "execution_count": 10,
     "metadata": {},
     "output_type": "execute_result"
    }
   ],
   "source": [
    "a == b"
   ]
  },
  {
   "cell_type": "code",
   "execution_count": 11,
   "metadata": {},
   "outputs": [
    {
     "data": {
      "text/plain": [
       "range"
      ]
     },
     "execution_count": 11,
     "metadata": {},
     "output_type": "execute_result"
    }
   ],
   "source": [
    "type(b)"
   ]
  },
  {
   "cell_type": "code",
   "execution_count": 14,
   "metadata": {},
   "outputs": [
    {
     "name": "stdout",
     "output_type": "stream",
     "text": [
      "8697464\n",
      "48\n"
     ]
    }
   ],
   "source": [
    "import sys\n",
    "print(sys.getsizeof(a))\n",
    "print(sys.getsizeof(b))"
   ]
  },
  {
   "cell_type": "markdown",
   "metadata": {},
   "source": [
    "### -enumerate\n",
    "- 순서가 있는 자료형(list,set,tuple 등)을 인덱스를 포함한 enumerate 객체로 리턴. 인덱스 자동 부여가 매우 편리."
   ]
  },
  {
   "cell_type": "code",
   "execution_count": 15,
   "metadata": {},
   "outputs": [
    {
     "data": {
      "text/plain": [
       "[1, 2, 3, 2, 45, 2, 5]"
      ]
     },
     "execution_count": 15,
     "metadata": {},
     "output_type": "execute_result"
    }
   ],
   "source": [
    "a = [1,2,3,2,45,2,5]\n",
    "a"
   ]
  },
  {
   "cell_type": "code",
   "execution_count": 16,
   "metadata": {},
   "outputs": [
    {
     "data": {
      "text/plain": [
       "<enumerate at 0x1af8017fae8>"
      ]
     },
     "execution_count": 16,
     "metadata": {},
     "output_type": "execute_result"
    }
   ],
   "source": [
    "enumerate(a)"
   ]
  },
  {
   "cell_type": "code",
   "execution_count": 17,
   "metadata": {},
   "outputs": [
    {
     "data": {
      "text/plain": [
       "[(0, 1), (1, 2), (2, 3), (3, 2), (4, 45), (5, 2), (6, 5)]"
      ]
     },
     "execution_count": 17,
     "metadata": {},
     "output_type": "execute_result"
    }
   ],
   "source": [
    "#앞이 인덱스 번호, 값\n",
    "list(enumerate(a))"
   ]
  },
  {
   "cell_type": "code",
   "execution_count": 18,
   "metadata": {},
   "outputs": [
    {
     "name": "stdout",
     "output_type": "stream",
     "text": [
      "0 a1\n",
      "1 b2\n",
      "2 c3\n"
     ]
    }
   ],
   "source": [
    "# 인덱스와 값을 함께 출력.(값을 가져오기 위해 불필요한 a[i]조회와 전체 길이를 조회 함.)\n",
    "a = ['a1','b2','c3']\n",
    "for i in range(len(a)):\n",
    "    print(i,a[i])"
   ]
  },
  {
   "cell_type": "code",
   "execution_count": 19,
   "metadata": {},
   "outputs": [
    {
     "name": "stdout",
     "output_type": "stream",
     "text": [
      "0 a1\n",
      "1 b2\n",
      "2 c3\n"
     ]
    }
   ],
   "source": [
    "# 보다 깔끔함.(인덱스를 위한 별도 변수를 관리하는 형태)\n",
    "i = 0\n",
    "for v in a:\n",
    "    print(i,v)\n",
    "    i += 1"
   ]
  },
  {
   "cell_type": "code",
   "execution_count": 20,
   "metadata": {},
   "outputs": [
    {
     "name": "stdout",
     "output_type": "stream",
     "text": [
      "0 a1\n",
      "1 b2\n",
      "2 c3\n"
     ]
    }
   ],
   "source": [
    "# 가장 깔끔.\n",
    "for i,v in enumerate(a):\n",
    "    print(i,v)"
   ]
  },
  {
   "cell_type": "markdown",
   "metadata": {},
   "source": [
    "### -나눗셈 연산자\n",
    "- '/'나누기, '//'몫 = 'int(a/b)', '%'나머지"
   ]
  },
  {
   "cell_type": "code",
   "execution_count": 21,
   "metadata": {},
   "outputs": [
    {
     "data": {
      "text/plain": [
       "1.6666666666666667"
      ]
     },
     "execution_count": 21,
     "metadata": {},
     "output_type": "execute_result"
    }
   ],
   "source": [
    "5/3"
   ]
  },
  {
   "cell_type": "code",
   "execution_count": 22,
   "metadata": {},
   "outputs": [
    {
     "data": {
      "text/plain": [
       "float"
      ]
     },
     "execution_count": 22,
     "metadata": {},
     "output_type": "execute_result"
    }
   ],
   "source": [
    "type(5/3)"
   ]
  },
  {
   "cell_type": "code",
   "execution_count": 23,
   "metadata": {},
   "outputs": [
    {
     "data": {
      "text/plain": [
       "1"
      ]
     },
     "execution_count": 23,
     "metadata": {},
     "output_type": "execute_result"
    }
   ],
   "source": [
    "5//3"
   ]
  },
  {
   "cell_type": "code",
   "execution_count": 25,
   "metadata": {},
   "outputs": [
    {
     "data": {
      "text/plain": [
       "int"
      ]
     },
     "execution_count": 25,
     "metadata": {},
     "output_type": "execute_result"
    }
   ],
   "source": [
    "type(5//3)"
   ]
  },
  {
   "cell_type": "code",
   "execution_count": 24,
   "metadata": {},
   "outputs": [
    {
     "data": {
      "text/plain": [
       "1"
      ]
     },
     "execution_count": 24,
     "metadata": {},
     "output_type": "execute_result"
    }
   ],
   "source": [
    "int(5/3)"
   ]
  },
  {
   "cell_type": "code",
   "execution_count": 26,
   "metadata": {},
   "outputs": [
    {
     "data": {
      "text/plain": [
       "int"
      ]
     },
     "execution_count": 26,
     "metadata": {},
     "output_type": "execute_result"
    }
   ],
   "source": [
    "type(int(5/3))"
   ]
  },
  {
   "cell_type": "code",
   "execution_count": 27,
   "metadata": {},
   "outputs": [
    {
     "data": {
      "text/plain": [
       "2"
      ]
     },
     "execution_count": 27,
     "metadata": {},
     "output_type": "execute_result"
    }
   ],
   "source": [
    "5%3"
   ]
  },
  {
   "cell_type": "markdown",
   "metadata": {},
   "source": [
    "- 몫과 나머지를 한번에 구할 때 divmod() 함수 이용"
   ]
  },
  {
   "cell_type": "code",
   "execution_count": 28,
   "metadata": {},
   "outputs": [
    {
     "data": {
      "text/plain": [
       "(1, 2)"
      ]
     },
     "execution_count": 28,
     "metadata": {},
     "output_type": "execute_result"
    }
   ],
   "source": [
    "divmod(5,3)"
   ]
  },
  {
   "cell_type": "markdown",
   "metadata": {},
   "source": [
    "### -print\n",
    "- 출력할 값을 콤마(,)로 구분, 구분자를 sep 파라미터로 지정"
   ]
  },
  {
   "cell_type": "code",
   "execution_count": 29,
   "metadata": {},
   "outputs": [
    {
     "name": "stdout",
     "output_type": "stream",
     "text": [
      "A1 B2\n"
     ]
    }
   ],
   "source": [
    "print('A1','B2')"
   ]
  },
  {
   "cell_type": "code",
   "execution_count": 30,
   "metadata": {},
   "outputs": [
    {
     "name": "stdout",
     "output_type": "stream",
     "text": [
      "A1,B2\n"
     ]
    }
   ],
   "source": [
    "#구분자를 콤마(,)로 지정\n",
    "print('A1','B2',sep=',')"
   ]
  },
  {
   "cell_type": "markdown",
   "metadata": {},
   "source": [
    "- 항상 줄바꿈을 하기 때문에 긴 루프의 값을 반복적으로 출력하면 디버깅이 어려움. end 파라미터를 공백으로 처리하여 줄바꿈을 하지 않도록 제한 가능."
   ]
  },
  {
   "cell_type": "code",
   "execution_count": 31,
   "metadata": {},
   "outputs": [
    {
     "name": "stdout",
     "output_type": "stream",
     "text": [
      "aa bb\n"
     ]
    }
   ],
   "source": [
    "print('aa',end=' ')\n",
    "print('bb')"
   ]
  },
  {
   "cell_type": "markdown",
   "metadata": {},
   "source": [
    "- 리스트 출력할 때는 join()으로 묶어서"
   ]
  },
  {
   "cell_type": "code",
   "execution_count": 33,
   "metadata": {},
   "outputs": [
    {
     "name": "stdout",
     "output_type": "stream",
     "text": [
      "['A', 'B']\n"
     ]
    }
   ],
   "source": [
    "a = ['A','B']\n",
    "print(a)"
   ]
  },
  {
   "cell_type": "code",
   "execution_count": 34,
   "metadata": {},
   "outputs": [
    {
     "name": "stdout",
     "output_type": "stream",
     "text": [
      "A B\n"
     ]
    }
   ],
   "source": [
    "print(' '.join(a))"
   ]
  },
  {
   "cell_type": "markdown",
   "metadata": {},
   "source": [
    "- 인덱스와 함께 사용이 가능함."
   ]
  },
  {
   "cell_type": "code",
   "execution_count": 39,
   "metadata": {},
   "outputs": [
    {
     "name": "stdout",
     "output_type": "stream",
     "text": [
      "2:Apple\n"
     ]
    }
   ],
   "source": [
    "# idx값에 1을 더하고 fruit와 함께 출력하는 방법\n",
    "idx =1\n",
    "fruit = \"Apple\"\n",
    "print('{0}:{1}'.format(idx+1,fruit))"
   ]
  },
  {
   "cell_type": "code",
   "execution_count": 37,
   "metadata": {},
   "outputs": [
    {
     "name": "stdout",
     "output_type": "stream",
     "text": [
      "2:Apple\n"
     ]
    }
   ],
   "source": [
    "# 인덱스 생략도 가능\n",
    "print('{}:{}'.format(idx+1,fruit))"
   ]
  },
  {
   "cell_type": "markdown",
   "metadata": {},
   "source": [
    "- f-string은 변수를 뒤에 별도로 부여할 필요 없이 템플릿 사용하드 삽입 가능. 기존의 %,.format 방식에 비해 간결하고 직관적이며 속도가 빠름."
   ]
  },
  {
   "cell_type": "code",
   "execution_count": 42,
   "metadata": {},
   "outputs": [
    {
     "name": "stdout",
     "output_type": "stream",
     "text": [
      "2:Apple\n"
     ]
    }
   ],
   "source": [
    "print(f'{idx+1}:{fruit}')"
   ]
  },
  {
   "cell_type": "markdown",
   "metadata": {},
   "source": [
    "### -pass\n",
    "- 널(null) 연산으로 아무것도 하지 않는 기능. 인덴트 오류 같은 불필요한 오류를 방지 가능."
   ]
  },
  {
   "cell_type": "markdown",
   "metadata": {},
   "source": [
    "- 골격을 잡아 놓고 내부에서 처리할 내용은 차근차근 생각하며 만들 때 유용함."
   ]
  },
  {
   "cell_type": "code",
   "execution_count": 43,
   "metadata": {},
   "outputs": [
    {
     "ename": "IndentationError",
     "evalue": "expected an indented block (<ipython-input-43-a9ec2052c63b>, line 4)",
     "output_type": "error",
     "traceback": [
      "\u001b[1;36m  File \u001b[1;32m\"<ipython-input-43-a9ec2052c63b>\"\u001b[1;36m, line \u001b[1;32m4\u001b[0m\n\u001b[1;33m    def method_b(self):\u001b[0m\n\u001b[1;37m      ^\u001b[0m\n\u001b[1;31mIndentationError\u001b[0m\u001b[1;31m:\u001b[0m expected an indented block\n"
     ]
    }
   ],
   "source": [
    "class MyClass(object):\n",
    "    def method_a(self):\n",
    "        \n",
    "    def method_b(self):\n",
    "        print(\"Method B\")\n",
    "\n",
    "C = MyClass()"
   ]
  },
  {
   "cell_type": "code",
   "execution_count": 44,
   "metadata": {},
   "outputs": [],
   "source": [
    "# method_(a)가 아무런 처리를 하지 않았기 때문에 엉뚱하게 method_b()에서 오류가 발생함.\n",
    "# 이런 오류를 막는 역할을 함."
   ]
  },
  {
   "cell_type": "code",
   "execution_count": 45,
   "metadata": {},
   "outputs": [],
   "source": [
    "# pass 사용\n",
    "class MyClass(object):\n",
    "    def method_a(self):\n",
    "        pass #여기에 pass 추가\n",
    "        \n",
    "    def method_b(self):\n",
    "        print(\"Method B\")\n",
    "\n",
    "C = MyClass()"
   ]
  },
  {
   "cell_type": "markdown",
   "metadata": {},
   "source": [
    "### -locals\n",
    "- 로컬 심볼 테이블 딕셔너리를 가져오는 메소드. \n",
    "- 업데이트 가능.\n",
    "- 로컬에 선언된 모든 변수 조회 가능.\n",
    "- 클래스 메소드 내부의 모든 로컬 변수를 출력해주어 디버깅에 많음 도움이 됨."
   ]
  },
  {
   "cell_type": "code",
   "execution_count": 48,
   "metadata": {},
   "outputs": [
    {
     "name": "stdout",
     "output_type": "stream",
     "text": [
      "{'C': <__main__.MyClass object at 0x000001AF80198488>,\n",
      " 'In': ['',\n",
      "        'list(range(5))',\n",
      "        'range(0,5)',\n",
      "        'range(5)',\n",
      "        'type(range(5))',\n",
      "        \"for i in range(5):\\n    print(i, end=' ')\",\n",
      "        '- 생성 조건만 보관하고 있기 때문에 많은 값를 가지고 있어도 range클래스를 이용하면 메모리 점유율이 훨씬 작음.',\n",
      "        'a = [n for n in range(1000000)]\\n'\n",
      "        'b = range(1000000)\\n'\n",
      "        '\\n'\n",
      "        'len(a)\\n'\n",
      "        'len(b)\\n'\n",
      "        'len(a) == len(b)',\n",
      "        'a = [n for n in range(1000000)]\\n'\n",
      "        'b = range(1000000)\\n'\n",
      "        '\\n'\n",
      "        'print(len(a))\\n'\n",
      "        'print(len(b))\\n'\n",
      "        'len(a) == len(b)',\n",
      "        '# a에는 이미 생성된 값이, b는 생성해야한다는 조건만 존재\\nb',\n",
      "        'a == b',\n",
      "        'type(b)',\n",
      "        'sys.getsizeof(a)\\nsys.getsizeof(b)',\n",
      "        'import sys\\nsys.getsizeof(a)\\nsys.getsizeof(b)',\n",
      "        'import sys\\nprint(sys.getsizeof(a))\\nprint(sys.getsizeof(b))',\n",
      "        'a = [1,2,3,2,45,2,5]\\na',\n",
      "        'enumerate(a)',\n",
      "        'list(enumerate(a))',\n",
      "        '# 인덱스와 값을 함께 출력\\n'\n",
      "        \"a = ['a1','b2','c3']\\n\"\n",
      "        'for i in range(len(a)):\\n'\n",
      "        '    print(i,a[i])',\n",
      "        '# 보다 깔끔함.(인덱스를 위한 별도 변수를 관리하는 형태)\\n'\n",
      "        'i = 0\\n'\n",
      "        'for v in a:\\n'\n",
      "        '    print(i,v)\\n'\n",
      "        '    i += 1',\n",
      "        '# 가장 깔끔.\\nfor i,v in enumerate(a):\\n    print(i,v)',\n",
      "        '5/3',\n",
      "        'type(5/3)',\n",
      "        '5//3',\n",
      "        'int(5/3)',\n",
      "        'type(5//3)',\n",
      "        'type(int(5/3))',\n",
      "        '5%3',\n",
      "        'divmod(5,3)',\n",
      "        \"print('A1','B2')\",\n",
      "        \"#구분자를 콤마(,)로 지정\\nprint('A1','B2',sep=',')\",\n",
      "        \"print('aa',end=' ')\\nprint('bb')\",\n",
      "        '- 리스트 출력할 때는 join()으로 묶어서',\n",
      "        \"a = ['A','B']\\nprint(a)\",\n",
      "        \"print(' '.join(a))\",\n",
      "        'idx =1\\nfruit = \"Apple\"\\npirnt(\\'{0}:{1}\\'.format(idx+1,fruit))',\n",
      "        'idx =1\\nfruit = \"Apple\"\\nprint(\\'{0}:{1}\\'.format(idx+1,fruit))',\n",
      "        \"# 인덱스 생략도 가능\\nprint('{}:{}'.format(idx+1,fruit))\",\n",
      "        '# idx값에 1을 더하고 fruit와 함께 출력하는 방법\\n'\n",
      "        'idx =1\\n'\n",
      "        'fruit = \"Apple\"\\n'\n",
      "        \"print('{0}:{1}'.format(idx+1,fruit))\",\n",
      "        '# idx값에 1을 더하고 fruit와 함께 출력하는 방법\\n'\n",
      "        'idx =1\\n'\n",
      "        'fruit = \"Apple\"\\n'\n",
      "        \"print('{0}:{1}'.format(idx+1,fruit))\",\n",
      "        \"print(f'{idx+1}:{fruit})\",\n",
      "        \"print(f'{idx+1}:{fruit}'')\",\n",
      "        \"print(f'{idx+1}:{fruit}')\",\n",
      "        'class MyClass(object):\\n'\n",
      "        '    def method_a(self):\\n'\n",
      "        '        \\n'\n",
      "        '    def method_b(self):\\n'\n",
      "        '        print(\"Method B\")\\n'\n",
      "        '\\n'\n",
      "        'C = MyClass()',\n",
      "        '# method_(a)가 아무런 처리를 하지 않았기 때문에 엉뚱하게 method_b()에서 오류가 발생함.\\n'\n",
      "        '# 이런 오류를 막는 역할을 함.',\n",
      "        '# pass 사용\\n'\n",
      "        'class MyClass(object):\\n'\n",
      "        '    def method_a(self):\\n'\n",
      "        '        pass #여기에 pass 추가\\n'\n",
      "        '        \\n'\n",
      "        '    def method_b(self):\\n'\n",
      "        '        print(\"Method B\")\\n'\n",
      "        '\\n'\n",
      "        'C = MyClass()',\n",
      "        'import pprint\\npprint.pprint(locals())',\n",
      "        '# pprint로 출력하면 보기 좋게 줄바꿈 처리를 해주어 가독성이 높음.\\n'\n",
      "        'import pprint\\n'\n",
      "        'pprint.pprint(locals())',\n",
      "        '# pprint로 출력하면 보기 좋게 줄바꿈 처리를 해주어 가독성이 높음.\\n'\n",
      "        'import pprint\\n'\n",
      "        'pprint.pprint(locals())'],\n",
      " 'MyClass': <class '__main__.MyClass'>,\n",
      " 'Out': {1: [0, 1, 2, 3, 4],\n",
      "         2: range(0, 5),\n",
      "         3: range(0, 5),\n",
      "         4: <class 'range'>,\n",
      "         7: True,\n",
      "         8: True,\n",
      "         9: range(0, 1000000),\n",
      "         10: False,\n",
      "         11: <class 'range'>,\n",
      "         13: 48,\n",
      "         15: [1, 2, 3, 2, 45, 2, 5],\n",
      "         16: <enumerate object at 0x000001AF8017FAE8>,\n",
      "         17: [(0, 1), (1, 2), (2, 3), (3, 2), (4, 45), (5, 2), (6, 5)],\n",
      "         21: 1.6666666666666667,\n",
      "         22: <class 'float'>,\n",
      "         23: 1,\n",
      "         24: 1,\n",
      "         25: <class 'int'>,\n",
      "         26: <class 'int'>,\n",
      "         27: 2,\n",
      "         28: (1, 2)},\n",
      " '_': (1, 2),\n",
      " '_1': [0, 1, 2, 3, 4],\n",
      " '_10': False,\n",
      " '_11': <class 'range'>,\n",
      " '_13': 48,\n",
      " '_15': [1, 2, 3, 2, 45, 2, 5],\n",
      " '_16': <enumerate object at 0x000001AF8017FAE8>,\n",
      " '_17': [(0, 1), (1, 2), (2, 3), (3, 2), (4, 45), (5, 2), (6, 5)],\n",
      " '_2': range(0, 5),\n",
      " '_21': 1.6666666666666667,\n",
      " '_22': <class 'float'>,\n",
      " '_23': 1,\n",
      " '_24': 1,\n",
      " '_25': <class 'int'>,\n",
      " '_26': <class 'int'>,\n",
      " '_27': 2,\n",
      " '_28': (1, 2),\n",
      " '_3': range(0, 5),\n",
      " '_4': <class 'range'>,\n",
      " '_7': True,\n",
      " '_8': True,\n",
      " '_9': range(0, 1000000),\n",
      " '__': 2,\n",
      " '___': <class 'int'>,\n",
      " '__builtin__': <module 'builtins' (built-in)>,\n",
      " '__builtins__': <module 'builtins' (built-in)>,\n",
      " '__doc__': 'Automatically created module for IPython interactive environment',\n",
      " '__loader__': None,\n",
      " '__name__': '__main__',\n",
      " '__package__': None,\n",
      " '__spec__': None,\n",
      " '_dh': ['C:\\\\Users\\\\olivi\\\\Desktop\\\\코테스터디'],\n",
      " '_i': '# pprint로 출력하면 보기 좋게 줄바꿈 처리를 해주어 가독성이 높음.\\n'\n",
      "       'import pprint\\n'\n",
      "       'pprint.pprint(locals())',\n",
      " '_i1': 'list(range(5))',\n",
      " '_i10': 'a == b',\n",
      " '_i11': 'type(b)',\n",
      " '_i12': 'sys.getsizeof(a)\\nsys.getsizeof(b)',\n",
      " '_i13': 'import sys\\nsys.getsizeof(a)\\nsys.getsizeof(b)',\n",
      " '_i14': 'import sys\\nprint(sys.getsizeof(a))\\nprint(sys.getsizeof(b))',\n",
      " '_i15': 'a = [1,2,3,2,45,2,5]\\na',\n",
      " '_i16': 'enumerate(a)',\n",
      " '_i17': 'list(enumerate(a))',\n",
      " '_i18': '# 인덱스와 값을 함께 출력\\n'\n",
      "         \"a = ['a1','b2','c3']\\n\"\n",
      "         'for i in range(len(a)):\\n'\n",
      "         '    print(i,a[i])',\n",
      " '_i19': '# 보다 깔끔함.(인덱스를 위한 별도 변수를 관리하는 형태)\\n'\n",
      "         'i = 0\\n'\n",
      "         'for v in a:\\n'\n",
      "         '    print(i,v)\\n'\n",
      "         '    i += 1',\n",
      " '_i2': 'range(0,5)',\n",
      " '_i20': '# 가장 깔끔.\\nfor i,v in enumerate(a):\\n    print(i,v)',\n",
      " '_i21': '5/3',\n",
      " '_i22': 'type(5/3)',\n",
      " '_i23': '5//3',\n",
      " '_i24': 'int(5/3)',\n",
      " '_i25': 'type(5//3)',\n",
      " '_i26': 'type(int(5/3))',\n",
      " '_i27': '5%3',\n",
      " '_i28': 'divmod(5,3)',\n",
      " '_i29': \"print('A1','B2')\",\n",
      " '_i3': 'range(5)',\n",
      " '_i30': \"#구분자를 콤마(,)로 지정\\nprint('A1','B2',sep=',')\",\n",
      " '_i31': \"print('aa',end=' ')\\nprint('bb')\",\n",
      " '_i32': '- 리스트 출력할 때는 join()으로 묶어서',\n",
      " '_i33': \"a = ['A','B']\\nprint(a)\",\n",
      " '_i34': \"print(' '.join(a))\",\n",
      " '_i35': 'idx =1\\nfruit = \"Apple\"\\npirnt(\\'{0}:{1}\\'.format(idx+1,fruit))',\n",
      " '_i36': 'idx =1\\nfruit = \"Apple\"\\nprint(\\'{0}:{1}\\'.format(idx+1,fruit))',\n",
      " '_i37': \"# 인덱스 생략도 가능\\nprint('{}:{}'.format(idx+1,fruit))\",\n",
      " '_i38': '# idx값에 1을 더하고 fruit와 함께 출력하는 방법\\n'\n",
      "         'idx =1\\n'\n",
      "         'fruit = \"Apple\"\\n'\n",
      "         \"print('{0}:{1}'.format(idx+1,fruit))\",\n",
      " '_i39': '# idx값에 1을 더하고 fruit와 함께 출력하는 방법\\n'\n",
      "         'idx =1\\n'\n",
      "         'fruit = \"Apple\"\\n'\n",
      "         \"print('{0}:{1}'.format(idx+1,fruit))\",\n",
      " '_i4': 'type(range(5))',\n",
      " '_i40': \"print(f'{idx+1}:{fruit})\",\n",
      " '_i41': \"print(f'{idx+1}:{fruit}'')\",\n",
      " '_i42': \"print(f'{idx+1}:{fruit}')\",\n",
      " '_i43': 'class MyClass(object):\\n'\n",
      "         '    def method_a(self):\\n'\n",
      "         '        \\n'\n",
      "         '    def method_b(self):\\n'\n",
      "         '        print(\"Method B\")\\n'\n",
      "         '\\n'\n",
      "         'C = MyClass()',\n",
      " '_i44': '# method_(a)가 아무런 처리를 하지 않았기 때문에 엉뚱하게 method_b()에서 오류가 발생함.\\n'\n",
      "         '# 이런 오류를 막는 역할을 함.',\n",
      " '_i45': '# pass 사용\\n'\n",
      "         'class MyClass(object):\\n'\n",
      "         '    def method_a(self):\\n'\n",
      "         '        pass #여기에 pass 추가\\n'\n",
      "         '        \\n'\n",
      "         '    def method_b(self):\\n'\n",
      "         '        print(\"Method B\")\\n'\n",
      "         '\\n'\n",
      "         'C = MyClass()',\n",
      " '_i46': 'import pprint\\npprint.pprint(locals())',\n",
      " '_i47': '# pprint로 출력하면 보기 좋게 줄바꿈 처리를 해주어 가독성이 높음.\\n'\n",
      "         'import pprint\\n'\n",
      "         'pprint.pprint(locals())',\n",
      " '_i48': '# pprint로 출력하면 보기 좋게 줄바꿈 처리를 해주어 가독성이 높음.\\n'\n",
      "         'import pprint\\n'\n",
      "         'pprint.pprint(locals())',\n",
      " '_i5': \"for i in range(5):\\n    print(i, end=' ')\",\n",
      " '_i6': '- 생성 조건만 보관하고 있기 때문에 많은 값를 가지고 있어도 range클래스를 이용하면 메모리 점유율이 훨씬 작음.',\n",
      " '_i7': 'a = [n for n in range(1000000)]\\n'\n",
      "        'b = range(1000000)\\n'\n",
      "        '\\n'\n",
      "        'len(a)\\n'\n",
      "        'len(b)\\n'\n",
      "        'len(a) == len(b)',\n",
      " '_i8': 'a = [n for n in range(1000000)]\\n'\n",
      "        'b = range(1000000)\\n'\n",
      "        '\\n'\n",
      "        'print(len(a))\\n'\n",
      "        'print(len(b))\\n'\n",
      "        'len(a) == len(b)',\n",
      " '_i9': '# a에는 이미 생성된 값이, b는 생성해야한다는 조건만 존재\\nb',\n",
      " '_ih': ['',\n",
      "         'list(range(5))',\n",
      "         'range(0,5)',\n",
      "         'range(5)',\n",
      "         'type(range(5))',\n",
      "         \"for i in range(5):\\n    print(i, end=' ')\",\n",
      "         '- 생성 조건만 보관하고 있기 때문에 많은 값를 가지고 있어도 range클래스를 이용하면 메모리 점유율이 훨씬 작음.',\n",
      "         'a = [n for n in range(1000000)]\\n'\n",
      "         'b = range(1000000)\\n'\n",
      "         '\\n'\n",
      "         'len(a)\\n'\n",
      "         'len(b)\\n'\n",
      "         'len(a) == len(b)',\n",
      "         'a = [n for n in range(1000000)]\\n'\n",
      "         'b = range(1000000)\\n'\n",
      "         '\\n'\n",
      "         'print(len(a))\\n'\n",
      "         'print(len(b))\\n'\n",
      "         'len(a) == len(b)',\n",
      "         '# a에는 이미 생성된 값이, b는 생성해야한다는 조건만 존재\\nb',\n",
      "         'a == b',\n",
      "         'type(b)',\n",
      "         'sys.getsizeof(a)\\nsys.getsizeof(b)',\n",
      "         'import sys\\nsys.getsizeof(a)\\nsys.getsizeof(b)',\n",
      "         'import sys\\nprint(sys.getsizeof(a))\\nprint(sys.getsizeof(b))',\n",
      "         'a = [1,2,3,2,45,2,5]\\na',\n",
      "         'enumerate(a)',\n",
      "         'list(enumerate(a))',\n",
      "         '# 인덱스와 값을 함께 출력\\n'\n",
      "         \"a = ['a1','b2','c3']\\n\"\n",
      "         'for i in range(len(a)):\\n'\n",
      "         '    print(i,a[i])',\n",
      "         '# 보다 깔끔함.(인덱스를 위한 별도 변수를 관리하는 형태)\\n'\n",
      "         'i = 0\\n'\n",
      "         'for v in a:\\n'\n",
      "         '    print(i,v)\\n'\n",
      "         '    i += 1',\n",
      "         '# 가장 깔끔.\\nfor i,v in enumerate(a):\\n    print(i,v)',\n",
      "         '5/3',\n",
      "         'type(5/3)',\n",
      "         '5//3',\n",
      "         'int(5/3)',\n",
      "         'type(5//3)',\n",
      "         'type(int(5/3))',\n",
      "         '5%3',\n",
      "         'divmod(5,3)',\n",
      "         \"print('A1','B2')\",\n",
      "         \"#구분자를 콤마(,)로 지정\\nprint('A1','B2',sep=',')\",\n",
      "         \"print('aa',end=' ')\\nprint('bb')\",\n",
      "         '- 리스트 출력할 때는 join()으로 묶어서',\n",
      "         \"a = ['A','B']\\nprint(a)\",\n",
      "         \"print(' '.join(a))\",\n",
      "         'idx =1\\nfruit = \"Apple\"\\npirnt(\\'{0}:{1}\\'.format(idx+1,fruit))',\n",
      "         'idx =1\\nfruit = \"Apple\"\\nprint(\\'{0}:{1}\\'.format(idx+1,fruit))',\n",
      "         \"# 인덱스 생략도 가능\\nprint('{}:{}'.format(idx+1,fruit))\",\n",
      "         '# idx값에 1을 더하고 fruit와 함께 출력하는 방법\\n'\n",
      "         'idx =1\\n'\n",
      "         'fruit = \"Apple\"\\n'\n",
      "         \"print('{0}:{1}'.format(idx+1,fruit))\",\n",
      "         '# idx값에 1을 더하고 fruit와 함께 출력하는 방법\\n'\n",
      "         'idx =1\\n'\n",
      "         'fruit = \"Apple\"\\n'\n",
      "         \"print('{0}:{1}'.format(idx+1,fruit))\",\n",
      "         \"print(f'{idx+1}:{fruit})\",\n",
      "         \"print(f'{idx+1}:{fruit}'')\",\n",
      "         \"print(f'{idx+1}:{fruit}')\",\n",
      "         'class MyClass(object):\\n'\n",
      "         '    def method_a(self):\\n'\n",
      "         '        \\n'\n",
      "         '    def method_b(self):\\n'\n",
      "         '        print(\"Method B\")\\n'\n",
      "         '\\n'\n",
      "         'C = MyClass()',\n",
      "         '# method_(a)가 아무런 처리를 하지 않았기 때문에 엉뚱하게 method_b()에서 오류가 발생함.\\n'\n",
      "         '# 이런 오류를 막는 역할을 함.',\n",
      "         '# pass 사용\\n'\n",
      "         'class MyClass(object):\\n'\n",
      "         '    def method_a(self):\\n'\n",
      "         '        pass #여기에 pass 추가\\n'\n",
      "         '        \\n'\n",
      "         '    def method_b(self):\\n'\n",
      "         '        print(\"Method B\")\\n'\n",
      "         '\\n'\n",
      "         'C = MyClass()',\n",
      "         'import pprint\\npprint.pprint(locals())',\n",
      "         '# pprint로 출력하면 보기 좋게 줄바꿈 처리를 해주어 가독성이 높음.\\n'\n",
      "         'import pprint\\n'\n",
      "         'pprint.pprint(locals())',\n",
      "         '# pprint로 출력하면 보기 좋게 줄바꿈 처리를 해주어 가독성이 높음.\\n'\n",
      "         'import pprint\\n'\n",
      "         'pprint.pprint(locals())'],\n",
      " '_ii': 'import pprint\\npprint.pprint(locals())',\n",
      " '_iii': '# pass 사용\\n'\n",
      "         'class MyClass(object):\\n'\n",
      "         '    def method_a(self):\\n'\n",
      "         '        pass #여기에 pass 추가\\n'\n",
      "         '        \\n'\n",
      "         '    def method_b(self):\\n'\n",
      "         '        print(\"Method B\")\\n'\n",
      "         '\\n'\n",
      "         'C = MyClass()',\n",
      " '_oh': {1: [0, 1, 2, 3, 4],\n",
      "         2: range(0, 5),\n",
      "         3: range(0, 5),\n",
      "         4: <class 'range'>,\n",
      "         7: True,\n",
      "         8: True,\n",
      "         9: range(0, 1000000),\n",
      "         10: False,\n",
      "         11: <class 'range'>,\n",
      "         13: 48,\n",
      "         15: [1, 2, 3, 2, 45, 2, 5],\n",
      "         16: <enumerate object at 0x000001AF8017FAE8>,\n",
      "         17: [(0, 1), (1, 2), (2, 3), (3, 2), (4, 45), (5, 2), (6, 5)],\n",
      "         21: 1.6666666666666667,\n",
      "         22: <class 'float'>,\n",
      "         23: 1,\n",
      "         24: 1,\n",
      "         25: <class 'int'>,\n",
      "         26: <class 'int'>,\n",
      "         27: 2,\n",
      "         28: (1, 2)},\n",
      " 'a': ['A', 'B'],\n",
      " 'b': range(0, 1000000),\n",
      " 'exit': <IPython.core.autocall.ZMQExitAutocall object at 0x000001AFFB5A4108>,\n",
      " 'fruit': 'Apple',\n",
      " 'get_ipython': <bound method InteractiveShell.get_ipython of <ipykernel.zmqshell.ZMQInteractiveShell object at 0x000001AFFB50C088>>,\n",
      " 'i': 2,\n",
      " 'idx': 1,\n",
      " 'pprint': <module 'pprint' from 'C:\\\\Users\\\\olivi\\\\anaconda3\\\\lib\\\\pprint.py'>,\n",
      " 'quit': <IPython.core.autocall.ZMQExitAutocall object at 0x000001AFFB5A4108>,\n",
      " 'sys': <module 'sys' (built-in)>,\n",
      " 'v': 'c3'}\n"
     ]
    }
   ],
   "source": [
    "# pprint로 출력하면 보기 좋게 줄바꿈 처리를 해주어 가독성이 높음.\n",
    "import pprint\n",
    "pprint.pprint(locals())"
   ]
  },
  {
   "cell_type": "markdown",
   "metadata": {},
   "source": [
    "### -코딩 스타일\n",
    "- 많은 사람이 좋아하며 선호하는 방식. \n",
    "- 추천 책: 클린 코드(자바 기준이라 파이썬에 적용하기에 무리가 있음), 프로그래밍 수련법(C 기준)\n",
    "- '파이썬의 PEP 8, 구글의 파이썬 스타일 가이드' 좀 더 실용적인 관점에서 좋은 코드를 작성하는데 도움이 됨."
   ]
  },
  {
   "cell_type": "markdown",
   "metadata": {},
   "source": [
    "### -변수명과 주석\n",
    "- 간단한 주석을 부여하는 편이 가독이 높아 보임.\n",
    "- 변수명도 각각의 의미를 부여해 작명하는 것이 좋음."
   ]
  },
  {
   "cell_type": "code",
   "execution_count": 52,
   "metadata": {},
   "outputs": [],
   "source": [
    "# 변수명을 아무렇게나 지정하고 주석도 없이 작성한 코드\n",
    "# def numMatchingSubseq(self, S: str, words: List[str]) -> int:\n",
    "#    a = 0\n",
    "#    \n",
    "#    for b in words:\n",
    "#        c = 0\n",
    "#        for i in range(len(b)):\n",
    "#            d = S[c:].find(b[i])\n",
    "#            if d < 0 :\n",
    "#                a -= 1\n",
    "#                break\n",
    "#            else:\n",
    "#                c += d + 1\n",
    "#        a += 1\n",
    "#    \n",
    "#    return a"
   ]
  },
  {
   "cell_type": "code",
   "execution_count": 53,
   "metadata": {},
   "outputs": [],
   "source": [
    "# 변수명에 의미 부여, 간단한 주석 작성\n",
    "# def numMatchingSubseq(self, S: str, words: List[str]) -> int:\n",
    "#    matched_count = 0\n",
    "#    \n",
    "#    for word in words:\n",
    "#        pos = 0\n",
    "#        for i in range(len(word)):\n",
    "             # Find matching position for each character.\n",
    "#            found_pos = S[pos:].find(word[i])\n",
    "#            if found_pos < 0 :\n",
    "#                matched_count -= 1\n",
    "#                break\n",
    "#            else:  #If found, take step position forward.\n",
    "#                pos += found_pos + 1\n",
    "#        matched_count += 1\n",
    "#    \n",
    "#    return matched_count"
   ]
  },
  {
   "cell_type": "markdown",
   "metadata": {},
   "source": [
    "- 주석은 한글로 달아도 무방하지만 영어로 작성하는 것에도 부담이 없어야 함.\n",
    "- 온라인 코딩 테스트 시에도 영어로 주석을 달아서 제출하는 편이 좀 더 프로페셔널한 인상을 줄 수 있음.\n",
    "- 코딩 테스트 시에는 부가 설명을 덧붙일 수 없기 때문에 항상 코드에 상세한 주석을 달아두기."
   ]
  },
  {
   "cell_type": "markdown",
   "metadata": {},
   "source": [
    "### -리스트 컴프리헨션\n",
    "- 문법과 의미를 축약하여 나타내는 특징 탓에 지나치게 남발하면 가독성을 떨어트림."
   ]
  },
  {
   "cell_type": "code",
   "execution_count": 56,
   "metadata": {},
   "outputs": [],
   "source": [
    "# 가독성을 떨어트리는 대표적인 경우\n",
    "# str1s = [str1[i:i + 2].lower() for i in range(len(str1) - 1) if re.findall('[a-z]{2}', str1[i:i + 2].lower())]"
   ]
  },
  {
   "cell_type": "code",
   "execution_count": 57,
   "metadata": {},
   "outputs": [],
   "source": [
    "# 줄바꿈을 해서 코드를 정리\n",
    "#str1s = [\n",
    "#    str1[i:i + 2].lower() for i in range(len(str1) - 1) \n",
    "#    if re.findall('[a-z]{2}', str1[i:i + 2].lower())\n",
    "#]"
   ]
  },
  {
   "cell_type": "code",
   "execution_count": 58,
   "metadata": {},
   "outputs": [],
   "source": [
    "# 모두 풀어서 쓰는 것이 가독성을 위해 괜찮음.\n",
    "#str1s = []\n",
    "#for i in range(len(str1) - 1):\n",
    "#    if re.findall('[a-z]{2}', str1[i:i + 2].lower()):\n",
    "#        str1s.append(str1[i:i + 2].lower())"
   ]
  },
  {
   "cell_type": "markdown",
   "metadata": {},
   "source": [
    "- 짧은 줄 수를 고집할 필요 없이 경우에 따라 가독성을 위해 풀어쓰는 것도 검토\n",
    "- 대체로 표현식이 2개 넘지 않아야 함."
   ]
  },
  {
   "cell_type": "code",
   "execution_count": 60,
   "metadata": {},
   "outputs": [],
   "source": [
    "# 여러 표현식을 여러 줄에 걸쳐 표현하면 가독성이 지나치게 떨어짐\n",
    "#return [(x,y,z)\n",
    "#        for x in range(5)\n",
    "#        for y in range(5)\n",
    "#        if x != y\n",
    "#        for z in range(5)\n",
    "#        if y != z]"
   ]
  },
  {
   "cell_type": "markdown",
   "metadata": {},
   "source": [
    "### -구글 파이썬 스타일 가이드\n",
    "- PEP 8에 없는 좋은 코드를 위한 지침들이 여럿 있음."
   ]
  },
  {
   "cell_type": "markdown",
   "metadata": {},
   "source": [
    "- 함수의 기본 값으로 가변 객체를 사용하지 않아야 함. 함수가 객체를 수정하면 기본값이 변경 됨. 기본값으로 []나 {}사용은 지양."
   ]
  },
  {
   "cell_type": "code",
   "execution_count": 62,
   "metadata": {},
   "outputs": [],
   "source": [
    "#No: def foo(a,b=[]):\n",
    "        \n",
    "#No: def foo(a, b: Mapping = {}):        "
   ]
  },
  {
   "cell_type": "markdown",
   "metadata": {},
   "source": [
    "- 불변 객체를 사용. None을 명시적을 할당하는 것도 좋은 방법."
   ]
  },
  {
   "cell_type": "code",
   "execution_count": 63,
   "metadata": {},
   "outputs": [],
   "source": [
    "#Yes: def foo(a, b=None):\n",
    "#        if b is None:\n",
    "#            b = []\n",
    "\n",
    "#Yes: def foo(a, b: Optional[Sequence] = None):\n",
    "#        if b is None:\n",
    "#            b = []"
   ]
  },
  {
   "cell_type": "markdown",
   "metadata": {},
   "source": [
    "- True,False를 판별할 때는 암시적인 방법을 사용하는 편이 간결하고 가독성이 높음.\n",
    "- 정수 처리 시, 암시적 판별보다 직접 정수값을 비교\n",
    "- 계산식은 명시적으로 값을 비교하는 편이 좋음.\n",
    "- 세미콜론으로 줄을 끝내서는 안 됨.\n",
    "- 세미콜론을 사용해 같은 줄에 두 문장을 써서도 안 됨.\n",
    "- 최대 줄 길이는 80자로 제한"
   ]
  },
  {
   "cell_type": "code",
   "execution_count": 64,
   "metadata": {},
   "outputs": [],
   "source": [
    "#Yes: if not users:             # 길이가 없다는 뜻 len() == 0과 동일\n",
    "#        print('no users')     \n",
    "        \n",
    "#    if foo = 0:                # 정수를 처리할 때는 암시적 판별보다 비교 대상이 되는 정수값을 직접 비교\n",
    "#        self.handle_zero()\n",
    "        \n",
    "#     if i % 10 == 0:           # 명시적으로 값을 비교하는 편이 좋음\n",
    "#        self.handle_multiple_of_ten()\n",
    "        \n",
    "#No: if len(users) == 0:\n",
    "#        print('no users')\n",
    "        \n",
    "#    if foo is not None and not foo:\n",
    "#        self.handle_zero()\n",
    "        \n",
    "#    if not i % 10:\n",
    "#        self.handle_multiple_of_ten()\n"
   ]
  }
 ],
 "metadata": {
  "kernelspec": {
   "display_name": "Python 3",
   "language": "python",
   "name": "python3"
  },
  "language_info": {
   "codemirror_mode": {
    "name": "ipython",
    "version": 3
   },
   "file_extension": ".py",
   "mimetype": "text/x-python",
   "name": "python",
   "nbconvert_exporter": "python",
   "pygments_lexer": "ipython3",
   "version": "3.7.6"
  }
 },
 "nbformat": 4,
 "nbformat_minor": 4
}
